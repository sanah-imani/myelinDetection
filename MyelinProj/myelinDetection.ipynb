{
 "cells": [
  {
   "cell_type": "code",
   "execution_count": null,
   "id": "e707df5e",
   "metadata": {},
   "outputs": [],
   "source": [
    "import dijkstra3d\n",
    "import numpy as np\n",
    "import cc3d\n",
    "import edt\n",
    "import morphology\n",
    "from pykdtree.kdtree import KDTree\n",
    "import scipy"
   ]
  },
  {
   "cell_type": "code",
   "execution_count": null,
   "id": "de2f3fac",
   "metadata": {},
   "outputs": [],
   "source": [
    "\"\"\"import edt\n",
    "axon_mask  # the binary image of the region of interest\n",
    "zero_region_mask # X x Y x Z matrix the connected components of ID=0 touching the axon_mask\n",
    "border_mask  # border voxels of axon_mask =1\n",
    "border_indices # the indices into the image space that are border voxels of axon_mask\n",
    "zero_region_indices # the indices into the cutout where zero_region_mask is one\n",
    "dist_to_border # K long minimum euclidean distance of each voxel in zero_region_mask to border\n",
    "\n",
    "\n",
    "total_mask = border_mask | axon_mask\n",
    "total_mask_dist = edt.edt(total_mask, anisotropy=(8,8,40))\n",
    "border_edt = total_mask_dist[border_mask]\n",
    "mean_border_distance = np.mean(border_edt)\n",
    "is_in_mylen_mask = dist_to_border<mean_border_distance\n",
    "good_zero_indices=zero_region_indices[is_in_mylen_mask]\n",
    "new_mask = np.zeros(zero_region_mask.shape)\n",
    "new_mask[good_zero_indices]=1\"\"\""
   ]
  },
  {
   "cell_type": "code",
   "execution_count": null,
   "id": "ac98c4c3",
   "metadata": {},
   "outputs": [],
   "source": [
    "def get_mask_edt(mask):\n",
    "    return edt.edt(mask, anisotropy=(8,8,40))"
   ]
  },
  {
   "cell_type": "code",
   "execution_count": null,
   "id": "55ea0048",
   "metadata": {},
   "outputs": [],
   "source": [
    "def get_in_nm(pts, voxel_res):\n",
    "    for i in range(len(pts)):\n",
    "        for j in range(3):\n",
    "            pts[i][j] = pts[i][j]*voxel_res[j]\n",
    "    return pts"
   ]
  },
  {
   "cell_type": "code",
   "execution_count": null,
   "id": "162f5e1f",
   "metadata": {},
   "outputs": [],
   "source": [
    "def connectedCompLabeling(segmentation, connectivity, seg_id):\n",
    "    labels_in = segmentation\n",
    "    labels_out = cc3d.connected_components(labels_in, connectivity=connectivity)\n",
    "    labels_out, N = cc3d.connected_components(labels_in, return_N=True)\n",
    "    return labels_out, N"
   ]
  },
  {
   "cell_type": "code",
   "execution_count": null,
   "id": "f37f49d0",
   "metadata": {},
   "outputs": [],
   "source": [
    "def extract_connected_comps(label_id):\n",
    "    extractedImg = labels_out * (labels_out == seg_id)\n",
    "    process(extractedImg)\n",
    "    return extractedImg\n",
    "    "
   ]
  },
  {
   "cell_type": "code",
   "execution_count": null,
   "id": "9a78258e",
   "metadata": {},
   "outputs": [],
   "source": [
    "def get_ids_in_mask(mask, id_space, exclude_list = (0)):\n",
    "    id_list = id_space[mask]\n",
    "    id_list = id_list[~np.isin(id_list,exclude_list)]\n",
    "    vals, counts = np.unique(id_list, return_counts=True)\n",
    "    return vals, counts"
   ]
  },
  {
   "cell_type": "code",
   "execution_count": null,
   "id": "dc0c6ac4",
   "metadata": {},
   "outputs": [],
   "source": [
    "def get_border_mask(mask_data):\n",
    "    mask1 = morphology.binary_dilation(mask_data,iterations=1)\n",
    "    mask2 = morphology.binary_dilation(mask1,iterations=2)\n",
    "    border_mask = np.logical_xor(mask1,mask2)"
   ]
  },
  {
   "cell_type": "code",
   "execution_count": null,
   "id": "b3233c02",
   "metadata": {},
   "outputs": [],
   "source": [
    "def generate_kdtree(data, leaf_size):\n",
    "    return kd_tree = KDTree(data,leafsize=leaf_size)"
   ]
  },
  {
   "cell_type": "code",
   "execution_count": null,
   "id": "7e7fa798",
   "metadata": {},
   "outputs": [],
   "source": [
    "def query_tree(query_pts):\n",
    "    nm_query_pts = get_in_nm(query_pts, [8, 8, 40])\n",
    "    dist, idx = kd_tree.query(nm_query_pts, k=8)\n",
    "    return dist"
   ]
  },
  {
   "cell_type": "code",
   "execution_count": null,
   "id": "27084fb1",
   "metadata": {},
   "outputs": [],
   "source": [
    "def shortest_distance(border_mask, labels_out,kd_data):\n",
    "    vals, counts = get_ids_in_mask(border_mask, labels_out)\n",
    "    kd_tree = generate_kdtree(kd_data, 15)\n",
    "    dist = np.empty(len(vals))\n",
    "    for val in vals:\n",
    "        query_pts = extract_connected_comps(val)\n",
    "        dist.append(query_tree(query_pts))\n",
    "        np.histogram(dist, bins=10)\n",
    "    return vals, dist\n"
   ]
  }
 ],
 "metadata": {
  "kernelspec": {
   "display_name": "myelinDetection",
   "language": "python",
   "name": "myelindetection"
  },
  "language_info": {
   "codemirror_mode": {
    "name": "ipython",
    "version": 3
   },
   "file_extension": ".py",
   "mimetype": "text/x-python",
   "name": "python",
   "nbconvert_exporter": "python",
   "pygments_lexer": "ipython3",
   "version": "3.8.8"
  }
 },
 "nbformat": 4,
 "nbformat_minor": 5
}
