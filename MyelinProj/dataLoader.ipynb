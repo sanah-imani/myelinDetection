{
 "cells": [
  {
   "cell_type": "code",
   "execution_count": 30,
   "id": "c854d9ad",
   "metadata": {},
   "outputs": [],
   "source": [
    "\"\"\"Converting mesh objects into simplified skeletons and using skeleton indices to \n",
    "create cutouts of EM and segmentation data to input to the myelin detection model\"\"\""
   ]
  },
  {
   "cell_type": "code",
   "execution_count": null,
   "id": "2677eaa5",
   "metadata": {},
   "outputs": [],
   "source": [
    "from cloudvolume import CloudVolume\n",
    "from meshparty import trimesh_io\n",
    "import numpy as np\n",
    "from caveclient import CAVEclient\n",
    "from pcg_skel import pcg_meshwork\n",
    "import pcg_skel\n",
    "import imageryclient as ic\n",
    "from PIL import Image\n",
    "from meshparty import trimesh_io"
   ]
  },
  {
   "cell_type": "code",
   "execution_count": 17,
   "id": "3f6e21bd",
   "metadata": {},
   "outputs": [],
   "source": [
    "client = CAVEclient('minnie65_public_v117')"
   ]
  },
  {
   "cell_type": "code",
   "execution_count": 18,
   "id": "dfdef9b9",
   "metadata": {
    "scrolled": true
   },
   "outputs": [
    {
     "data": {
      "text/plain": [
       "{'synapse_table': 'synapses_pni_2',\n",
       " 'local_server': 'https://minnie.microns-daf.com',\n",
       " 'description': 'The publicly available version of the minnie65 volume.',\n",
       " 'segmentation_source': 'graphene://https://minnie.microns-daf.com/segmentation/table/minnie65_public_v117',\n",
       " 'analysis_database': None,\n",
       " 'viewer_site': 'https://neuromancer-seung-import.appspot.com/',\n",
       " 'aligned_volume': {'name': 'minnie65_phase3',\n",
       "  'id': 1,\n",
       "  'image_source': 'precomputed://https://bossdb-open-data.s3.amazonaws.com/microns/minnie/minnie65-phase3-em/aligned/v1',\n",
       "  'description': \"This is the second alignment of the IARPA 'minnie65' dataset, completed in the spring of 2020 that used the seamless approach.\"},\n",
       " 'soma_table': 'nucleus_neuron_svm'}"
      ]
     },
     "execution_count": 18,
     "metadata": {},
     "output_type": "execute_result"
    }
   ],
   "source": [
    "client.info.get_datastack_info()"
   ]
  },
  {
   "cell_type": "code",
   "execution_count": 19,
   "id": "960b73df",
   "metadata": {},
   "outputs": [],
   "source": [
    "mm = trimesh_io.MeshMeta(cv_path=client.info.segmentation_source(),\n",
    "                         disk_cache_path='minniemeshes')"
   ]
  },
  {
   "cell_type": "code",
   "execution_count": 20,
   "id": "e1826dd3",
   "metadata": {},
   "outputs": [],
   "source": [
    "#imagery client\n",
    "img_src = 'precomputed://https://bossdb-open-data.s3.amazonaws.com/microns/minnie/minnie65-phase3-em/aligned/v1'\n",
    "seg_src = client.info.segmentation_source()\n",
    "\n",
    "#'precomputed://gs://iarpa_microns/minnie/minnie65/seg'\n",
    "img_client = ic.ImageryClient(image_source=img_src,\n",
    "                              segmentation_source=seg_src)"
   ]
  },
  {
   "cell_type": "code",
   "execution_count": 21,
   "id": "76960737",
   "metadata": {},
   "outputs": [],
   "source": [
    "cldvol = CloudVolume(seg_src, mip = [8, 8, 40], progress = False, use_https = True, parallel=24)\n",
    "cldvol2 = CloudVolume(img_src, progress = False, use_https = True, parallel=24)"
   ]
  },
  {
   "cell_type": "code",
   "execution_count": 22,
   "id": "b23beb8a",
   "metadata": {},
   "outputs": [],
   "source": [
    "#seg_ids\n",
    "idList = [\"864691135467660940\",\n",
    "          \"864691135212863360\",\n",
    "          \"864691135699372834\",\n",
    "        \"864691135730415801\",\n",
    "        \"864691134940133219\",\n",
    "          \"864691135785592004\", \"864691136118647832\", \"864691135776002477\", \"864691135837451155\",\"864691135462540445\", \"864691135994684074\"]"
   ]
  },
  {
   "cell_type": "code",
   "execution_count": 23,
   "id": "c1eba095",
   "metadata": {},
   "outputs": [],
   "source": [
    "#generate a skeleton\n",
    "def getSkeleton(root_id, client, cldvol):\n",
    "    return pcg_meshwork(root_id = root_id, client = client, cv = cldvol, refine = 'all')"
   ]
  },
  {
   "cell_type": "code",
   "execution_count": 24,
   "id": "ce3bccd4",
   "metadata": {},
   "outputs": [
    {
     "ename": "FileExistsError",
     "evalue": "[WinError 183] Cannot create a file when that file already exists: 'imgsEM'",
     "output_type": "error",
     "traceback": [
      "\u001b[1;31m---------------------------------------------------------------------------\u001b[0m",
      "\u001b[1;31mFileExistsError\u001b[0m                           Traceback (most recent call last)",
      "\u001b[1;32m<ipython-input-24-a7242b7b4493>\u001b[0m in \u001b[0;36m<module>\u001b[1;34m\u001b[0m\n\u001b[0;32m      1\u001b[0m \u001b[1;31m#making a directory to save imgs and segs\u001b[0m\u001b[1;33m\u001b[0m\u001b[1;33m\u001b[0m\u001b[1;33m\u001b[0m\u001b[0m\n\u001b[0;32m      2\u001b[0m \u001b[1;32mimport\u001b[0m \u001b[0mos\u001b[0m\u001b[1;33m\u001b[0m\u001b[1;33m\u001b[0m\u001b[0m\n\u001b[1;32m----> 3\u001b[1;33m \u001b[0mos\u001b[0m\u001b[1;33m.\u001b[0m\u001b[0mmkdir\u001b[0m\u001b[1;33m(\u001b[0m\u001b[1;34m\"imgsEM\"\u001b[0m\u001b[1;33m)\u001b[0m\u001b[1;33m\u001b[0m\u001b[1;33m\u001b[0m\u001b[0m\n\u001b[0m\u001b[0;32m      4\u001b[0m \u001b[0mos\u001b[0m\u001b[1;33m.\u001b[0m\u001b[0mmkdir\u001b[0m\u001b[1;33m(\u001b[0m\u001b[1;34m\"segmentations\"\u001b[0m\u001b[1;33m)\u001b[0m\u001b[1;33m\u001b[0m\u001b[1;33m\u001b[0m\u001b[0m\n\u001b[0;32m      5\u001b[0m \u001b[1;31m#img path\u001b[0m\u001b[1;33m\u001b[0m\u001b[1;33m\u001b[0m\u001b[1;33m\u001b[0m\u001b[0m\n",
      "\u001b[1;31mFileExistsError\u001b[0m: [WinError 183] Cannot create a file when that file already exists: 'imgsEM'"
     ]
    }
   ],
   "source": [
    "#making a directory to save imgs and segs\n",
    "import os\n",
    "\n",
    "if !os.path.isdir(\"imgsEM\"):\n",
    "    os.mkdir(\"imgsEM\")\n",
    "if !os.path.isdir(\"segmentations\"):\n",
    "    os.mkdir(\"segmentations\")\n",
    "#img path\n",
    "img_path = os.getcwd() + \"\\\\imgsEM\\\\\"\n",
    "#seg path\n",
    "seg_path = os.getcwd() + \"\\\\segmentations\\\\\""
   ]
  },
  {
   "cell_type": "code",
   "execution_count": 25,
   "id": "9db21cbe",
   "metadata": {},
   "outputs": [
    {
     "ename": "FileExistsError",
     "evalue": "[WinError 183] Cannot create a file when that file already exists: 'C:\\\\Users\\\\sanah.imani\\\\MyelinProj\\\\imgsEM\\\\\\\\864691135467660940\\\\'",
     "output_type": "error",
     "traceback": [
      "\u001b[1;31m---------------------------------------------------------------------------\u001b[0m",
      "\u001b[1;31mFileExistsError\u001b[0m                           Traceback (most recent call last)",
      "\u001b[1;32m<ipython-input-25-334886b49a92>\u001b[0m in \u001b[0;36m<module>\u001b[1;34m\u001b[0m\n\u001b[0;32m      2\u001b[0m \u001b[1;32mimport\u001b[0m \u001b[0mos\u001b[0m\u001b[1;33m\u001b[0m\u001b[1;33m\u001b[0m\u001b[0m\n\u001b[0;32m      3\u001b[0m \u001b[1;32mfor\u001b[0m \u001b[0mid_\u001b[0m \u001b[1;32min\u001b[0m \u001b[0midList\u001b[0m\u001b[1;33m:\u001b[0m\u001b[1;33m\u001b[0m\u001b[1;33m\u001b[0m\u001b[0m\n\u001b[1;32m----> 4\u001b[1;33m     \u001b[0mos\u001b[0m\u001b[1;33m.\u001b[0m\u001b[0mmkdir\u001b[0m\u001b[1;33m(\u001b[0m\u001b[0mimg_path\u001b[0m\u001b[1;33m+\u001b[0m\u001b[1;34m\"\\\\\"\u001b[0m\u001b[1;33m+\u001b[0m\u001b[0mid_\u001b[0m\u001b[1;33m+\u001b[0m\u001b[1;34m\"\\\\\"\u001b[0m\u001b[1;33m)\u001b[0m\u001b[1;33m\u001b[0m\u001b[1;33m\u001b[0m\u001b[0m\n\u001b[0m\u001b[0;32m      5\u001b[0m     \u001b[0mos\u001b[0m\u001b[1;33m.\u001b[0m\u001b[0mmkdir\u001b[0m\u001b[1;33m(\u001b[0m\u001b[0mseg_path\u001b[0m\u001b[1;33m+\u001b[0m\u001b[1;34m\"\\\\\"\u001b[0m\u001b[1;33m+\u001b[0m\u001b[0mid_\u001b[0m\u001b[1;33m+\u001b[0m\u001b[1;34m\"\\\\\"\u001b[0m\u001b[1;33m)\u001b[0m\u001b[1;33m\u001b[0m\u001b[1;33m\u001b[0m\u001b[0m\n",
      "\u001b[1;31mFileExistsError\u001b[0m: [WinError 183] Cannot create a file when that file already exists: 'C:\\\\Users\\\\sanah.imani\\\\MyelinProj\\\\imgsEM\\\\\\\\864691135467660940\\\\'"
     ]
    }
   ],
   "source": [
    "#make dirs per root id\n",
    "import os\n",
    "for id_ in idList:\n",
    "    if !os.path.isdir(img_path+id_):\n",
    "        os.mkdir(img_path+id_)\n",
    "    if !os.path.isdir(seg_path+id_):\n",
    "        os.mkdir(seg_path+id_)"
   ]
  },
  {
   "cell_type": "code",
   "execution_count": 26,
   "id": "b09973a9",
   "metadata": {},
   "outputs": [],
   "source": [
    "#save cutouts\n",
    "def save_cutouts(cutouts,index,id_):\n",
    "    img = cutouts[0]\n",
    "    seg = cutouts[1]\n",
    "    np.save(img_path+id_+\"\\\\\"+\"img\"+str(index), img.T)\n",
    "    np.save(seg_path+id_+\"\\\\\"+\"seg\"+str(index),seg.T)"
   ]
  },
  {
   "cell_type": "code",
   "execution_count": null,
   "id": "7e23b66c",
   "metadata": {},
   "outputs": [],
   "source": [
    "#visualise cutouts\n",
    "def visualise_cutouts(path):\n",
    "    im = Image.fromarray(path)\n",
    "    "
   ]
  },
  {
   "cell_type": "code",
   "execution_count": 27,
   "id": "50e2ab7e",
   "metadata": {},
   "outputs": [],
   "source": [
    "#generate cutouts\n",
    "def getAndSave_cutouts(skel, vertices, dims,img_client,id_):\n",
    "    for i in range(len(vertices)):\n",
    "        ctr = []\n",
    "        width = height = depth = 3000\n",
    "        bounds = ic.bounds_from_center(ctr, width=width, height=height, depth=depth)\n",
    "        image = img_client.image_cutout(bounds)\n",
    "        seg = img_client.segmentation_cutout(bounds)\n",
    "        save_cutouts([image,seg],i,id_)\n",
    "#https://github.com/AllenInstitute/ImageryClient/blob/master/imageryclient/imagery.py#L81\n",
    "# 3 microns"
   ]
  },
  {
   "cell_type": "code",
   "execution_count": 28,
   "id": "af808970",
   "metadata": {},
   "outputs": [],
   "source": [
    "#main \n",
    "def main(id_,cldvol, CVclient,img_client):\n",
    "    #mesh = mm.mesh(seg_id = int(id_))\n",
    "    skel = getSkeleton(int(id_), CVclient, cldvol)\n",
    "    #nanometers \n",
    "    vertices = skel.vertices\n",
    "    dims = pcg_skel.util.chunk_dims(cldvol)\n",
    "    getAndSave_cutouts(skel,vertices, dims,img_client,id_)"
   ]
  },
  {
   "cell_type": "code",
   "execution_count": 31,
   "id": "2b2bc5fb",
   "metadata": {},
   "outputs": [
    {
     "name": "stderr",
     "output_type": "stream",
     "text": [
      "100%|██████████| 18182/18182 [00:05<00:00, 3048.81it/s]\n"
     ]
    },
    {
     "ename": "AttributeError",
     "evalue": "module 'pcg_skel' has no attribute 'util'",
     "output_type": "error",
     "traceback": [
      "\u001b[1;31m---------------------------------------------------------------------------\u001b[0m",
      "\u001b[1;31mAttributeError\u001b[0m                            Traceback (most recent call last)",
      "\u001b[1;32m<ipython-input-31-9b2ca7e0d5dd>\u001b[0m in \u001b[0;36m<module>\u001b[1;34m\u001b[0m\n\u001b[0;32m      1\u001b[0m \u001b[1;31m#run\u001b[0m\u001b[1;33m\u001b[0m\u001b[1;33m\u001b[0m\u001b[1;33m\u001b[0m\u001b[0m\n\u001b[0;32m      2\u001b[0m \u001b[1;32mfor\u001b[0m \u001b[0mid_\u001b[0m \u001b[1;32min\u001b[0m \u001b[0midList\u001b[0m\u001b[1;33m:\u001b[0m\u001b[1;33m\u001b[0m\u001b[1;33m\u001b[0m\u001b[0m\n\u001b[1;32m----> 3\u001b[1;33m     \u001b[0mmain\u001b[0m\u001b[1;33m(\u001b[0m\u001b[0mid_\u001b[0m\u001b[1;33m,\u001b[0m\u001b[0mcldvol\u001b[0m\u001b[1;33m,\u001b[0m \u001b[0mclient\u001b[0m\u001b[1;33m,\u001b[0m \u001b[0mimg_client\u001b[0m\u001b[1;33m)\u001b[0m\u001b[1;33m\u001b[0m\u001b[1;33m\u001b[0m\u001b[0m\n\u001b[0m\u001b[0;32m      4\u001b[0m     \u001b[1;32mbreak\u001b[0m\u001b[1;33m\u001b[0m\u001b[1;33m\u001b[0m\u001b[0m\n",
      "\u001b[1;32m<ipython-input-28-c59429ede6d4>\u001b[0m in \u001b[0;36mmain\u001b[1;34m(id_, cldvol, CVclient, img_client)\u001b[0m\n\u001b[0;32m      5\u001b[0m     \u001b[1;31m#nanometers\u001b[0m\u001b[1;33m\u001b[0m\u001b[1;33m\u001b[0m\u001b[1;33m\u001b[0m\u001b[0m\n\u001b[0;32m      6\u001b[0m     \u001b[0mvertices\u001b[0m \u001b[1;33m=\u001b[0m \u001b[0mskel\u001b[0m\u001b[1;33m.\u001b[0m\u001b[0mvertices\u001b[0m\u001b[1;33m\u001b[0m\u001b[1;33m\u001b[0m\u001b[0m\n\u001b[1;32m----> 7\u001b[1;33m     \u001b[0mdims\u001b[0m \u001b[1;33m=\u001b[0m \u001b[0mpcg_skel\u001b[0m\u001b[1;33m.\u001b[0m\u001b[0mutil\u001b[0m\u001b[1;33m.\u001b[0m\u001b[0mchunk_dims\u001b[0m\u001b[1;33m(\u001b[0m\u001b[0mcldvol\u001b[0m\u001b[1;33m)\u001b[0m\u001b[1;33m\u001b[0m\u001b[1;33m\u001b[0m\u001b[0m\n\u001b[0m\u001b[0;32m      8\u001b[0m     \u001b[0mgetAndSave_cutouts\u001b[0m\u001b[1;33m(\u001b[0m\u001b[0mskel\u001b[0m\u001b[1;33m,\u001b[0m\u001b[0mvertices\u001b[0m\u001b[1;33m,\u001b[0m \u001b[0mdims\u001b[0m\u001b[1;33m,\u001b[0m\u001b[0mimg_client\u001b[0m\u001b[1;33m,\u001b[0m\u001b[0mid_\u001b[0m\u001b[1;33m)\u001b[0m\u001b[1;33m\u001b[0m\u001b[1;33m\u001b[0m\u001b[0m\n",
      "\u001b[1;31mAttributeError\u001b[0m: module 'pcg_skel' has no attribute 'util'"
     ]
    }
   ],
   "source": [
    "#run\n",
    "for id_ in idList:\n",
    "    main(id_,cldvol, client, img_client)\n",
    "    "
   ]
  },
  {
   "cell_type": "code",
   "execution_count": null,
   "id": "96ef5542",
   "metadata": {},
   "outputs": [],
   "source": [
    "#reading from h5 files\n",
    "def readh5file():\n",
    "    "
   ]
  }
 ],
 "metadata": {
  "kernelspec": {
   "display_name": "myelinDetection",
   "language": "python",
   "name": "myelindetection"
  },
  "language_info": {
   "codemirror_mode": {
    "name": "ipython",
    "version": 3
   },
   "file_extension": ".py",
   "mimetype": "text/x-python",
   "name": "python",
   "nbconvert_exporter": "python",
   "pygments_lexer": "ipython3",
   "version": "3.8.8"
  }
 },
 "nbformat": 4,
 "nbformat_minor": 5
}
