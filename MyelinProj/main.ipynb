{
 "cells": [
  {
   "cell_type": "code",
   "execution_count": 7,
   "id": "e77f430e",
   "metadata": {},
   "outputs": [
    {
     "ename": "ModuleNotFoundError",
     "evalue": "No module named 'ipynb.full'",
     "output_type": "error",
     "traceback": [
      "\u001b[1;31m---------------------------------------------------------------------------\u001b[0m",
      "\u001b[1;31mModuleNotFoundError\u001b[0m                       Traceback (most recent call last)",
      "\u001b[1;32m<ipython-input-7-f04c0009beb4>\u001b[0m in \u001b[0;36m<module>\u001b[1;34m\u001b[0m\n\u001b[0;32m      4\u001b[0m \u001b[1;32mfrom\u001b[0m \u001b[0mos\u001b[0m \u001b[1;32mimport\u001b[0m \u001b[0mpath\u001b[0m\u001b[1;33m\u001b[0m\u001b[1;33m\u001b[0m\u001b[0m\n\u001b[0;32m      5\u001b[0m \u001b[1;32mfrom\u001b[0m \u001b[0mPIL\u001b[0m \u001b[1;32mimport\u001b[0m \u001b[0mImage\u001b[0m\u001b[1;33m\u001b[0m\u001b[1;33m\u001b[0m\u001b[0m\n\u001b[1;32m----> 6\u001b[1;33m \u001b[1;32mimport\u001b[0m \u001b[0mipynb\u001b[0m\u001b[1;33m.\u001b[0m\u001b[0mfull\u001b[0m\u001b[1;33m.\u001b[0m\u001b[0mmyelinDetection\u001b[0m \u001b[1;32mas\u001b[0m \u001b[0mmd\u001b[0m\u001b[1;33m\u001b[0m\u001b[1;33m\u001b[0m\u001b[0m\n\u001b[0m",
      "\u001b[1;31mModuleNotFoundError\u001b[0m: No module named 'ipynb.full'"
     ]
    }
   ],
   "source": [
    "#imports\n",
    "import numpy as np\n",
    "import os\n",
    "from os import path\n",
    "from PIL import Image\n",
    "import ipynb.fs.full.myelinDetection as md"
   ]
  },
  {
   "cell_type": "code",
   "execution_count": null,
   "id": "760108a4",
   "metadata": {},
   "outputs": [],
   "source": [
    "#idList\n",
    "idList = [\"864691135467660940\",\n",
    "          \"864691135212863360\",\n",
    "          \"864691135699372834\",\n",
    "        \"864691135730415801\",\n",
    "        \"864691134940133219\",\n",
    "          \"864691135785592004\", \"864691136118647832\", \"864691135776002477\", \"864691135837451155\",\"864691135462540445\", \"864691135994684074\"]"
   ]
  },
  {
   "cell_type": "code",
   "execution_count": null,
   "id": "02f8d38d",
   "metadata": {},
   "outputs": [],
   "source": [
    "#main \n",
    "def run(id_,seg_path,img_path):\n",
    "    if (!path.exists(seg_path) or !path.exists(img_path)):\n",
    "        return\n",
    "    seg = np.load(seg_path)\n",
    "    img = np.load(img_path)\n",
    "    connectedComps = getCC3D(seg)\n",
    "    axon_mask = np.where(seg == id_, 1, 0)\n",
    "    border_mask = get_border_mask(axon_mask)\n",
    "    zero_region_mask = get_ids_in_mask()\n",
    "    final_mask = np.logical_or(axon_mask, zero_region_mask)\n",
    "    border_edt = get_mask_edt(final_mask)[border_mask]\n",
    "    mean_border_distance = np.mean(border_edt)\n",
    "    dist_to_border = \n",
    "    zero_region_indices = np.array([idx for idx, element in enumerate(zero_region_mask) if element == 1])\n",
    "    is_in_myelin_mask = np.where(dist_to_border <= mean_border_distance,1, 0)\n",
    "    good_zero_indices=zero_region_indices[is_in_myelin_mask]\n",
    "    new_mask = np.zeros(zero_region_mask.shape)\n",
    "    new_mask[good_zero_indices]=1\n",
    "    \n",
    "    #vals, dist = shortest_distance(border_mask, connectedComps, borders)\n",
    "    #dist = dist.flatten()\n",
    "    #np.histogram(dist)\n",
    "    #median_dist = np.median(dist)\n",
    "    #myelin_cutout = get_ids_within_dist(id_, median_dist)\n",
    "    #img = Image.fromarray(myelin_cutout)\n",
    "    return img\n",
    "    "
   ]
  },
  {
   "cell_type": "code",
   "execution_count": null,
   "id": "466d6703",
   "metadata": {},
   "outputs": [],
   "source": [
    "#start\n",
    "#img path\n",
    "img_path = os.getcwd() + \"\\\\imgsEM\\\\\"\n",
    "#seg path\n",
    "seg_path = os.getcwd() + \"\\\\segmentations\\\\\"\n",
    "#myelin images path\n",
    "myelin_path = os.getcwd() + \"\\\\myelin\\\\\""
   ]
  },
  {
   "cell_type": "code",
   "execution_count": null,
   "id": "6c27f2bd",
   "metadata": {},
   "outputs": [],
   "source": [
    "def save_myelin_img(id_,myelin_img):\n",
    "    save(myelin_path + id_ + \"\\\\\"+ \"myelin_img.png\",myelin_img)"
   ]
  },
  {
   "cell_type": "code",
   "execution_count": null,
   "id": "460310cb",
   "metadata": {},
   "outputs": [],
   "source": [
    "for id_ in idList:\n",
    "    fileCount = len([name for name in os.listdir(seg_path) if os.path.isfile(os.path.join(seg_path, name))])\n",
    "    for i in range(fileCount):\n",
    "        curr_seg_path = seg_path + \"\\\\\"+id_+\"\\\\\" + +\"seg\"+str(i)\n",
    "        curr_img_path = img_path + \"\\\\\"+id_+\"\\\\\" + +\"img\"+str(i)\n",
    "        myelin_img = run(id_, curr_seg_path, curr_img_path)\n",
    "        save_myelin_img(id_, myelin_img)\n",
    "        "
   ]
  }
 ],
 "metadata": {
  "kernelspec": {
   "display_name": "myelinDetection",
   "language": "python",
   "name": "myelindetection"
  },
  "language_info": {
   "codemirror_mode": {
    "name": "ipython",
    "version": 3
   },
   "file_extension": ".py",
   "mimetype": "text/x-python",
   "name": "python",
   "nbconvert_exporter": "python",
   "pygments_lexer": "ipython3",
   "version": "3.8.8"
  }
 },
 "nbformat": 4,
 "nbformat_minor": 5
}
